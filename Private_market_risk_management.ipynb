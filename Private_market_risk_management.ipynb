{
 "cells": [
  {
   "cell_type": "markdown",
   "metadata": {},
   "source": [
    "## Private Market Risk Management"
   ]
  },
  {
   "cell_type": "code",
   "execution_count": 16,
   "metadata": {},
   "outputs": [],
   "source": [
    "# Imports\n",
    "%load_ext autoreload\n",
    "%autoreload 2\n",
    "%matplotlib inline\n",
    "from utilities import get_hfi_returns, var_historic, cvar_historic, var_gaussian\n",
    "import pandas as pd"
   ]
  },
  {
   "cell_type": "markdown",
   "metadata": {},
   "source": [
    "`get_hfi_returns` calculates the monthly returns of different hedge fund strategies from Jan 1970 to Nov 2018\n",
    "We are going to use this data to calculate our different risk management measures"
   ]
  },
  {
   "cell_type": "code",
   "execution_count": 5,
   "metadata": {},
   "outputs": [
    {
     "data": {
      "text/html": [
       "<div>\n",
       "<style scoped>\n",
       "    .dataframe tbody tr th:only-of-type {\n",
       "        vertical-align: middle;\n",
       "    }\n",
       "\n",
       "    .dataframe tbody tr th {\n",
       "        vertical-align: top;\n",
       "    }\n",
       "\n",
       "    .dataframe thead th {\n",
       "        text-align: right;\n",
       "    }\n",
       "</style>\n",
       "<table border=\"1\" class=\"dataframe\">\n",
       "  <thead>\n",
       "    <tr style=\"text-align: right;\">\n",
       "      <th></th>\n",
       "      <th>Convertible Arbitrage</th>\n",
       "      <th>CTA Global</th>\n",
       "      <th>Distressed Securities</th>\n",
       "      <th>Emerging Markets</th>\n",
       "      <th>Equity Market Neutral</th>\n",
       "      <th>Event Driven</th>\n",
       "      <th>Fixed Income Arbitrage</th>\n",
       "      <th>Global Macro</th>\n",
       "      <th>Long/Short Equity</th>\n",
       "      <th>Merger Arbitrage</th>\n",
       "      <th>Relative Value</th>\n",
       "      <th>Short Selling</th>\n",
       "      <th>Funds Of Funds</th>\n",
       "    </tr>\n",
       "    <tr>\n",
       "      <th>date</th>\n",
       "      <th></th>\n",
       "      <th></th>\n",
       "      <th></th>\n",
       "      <th></th>\n",
       "      <th></th>\n",
       "      <th></th>\n",
       "      <th></th>\n",
       "      <th></th>\n",
       "      <th></th>\n",
       "      <th></th>\n",
       "      <th></th>\n",
       "      <th></th>\n",
       "      <th></th>\n",
       "    </tr>\n",
       "  </thead>\n",
       "  <tbody>\n",
       "    <tr>\n",
       "      <th>1997-01</th>\n",
       "      <td>0.0119</td>\n",
       "      <td>0.0393</td>\n",
       "      <td>0.0178</td>\n",
       "      <td>0.0791</td>\n",
       "      <td>0.0189</td>\n",
       "      <td>0.0213</td>\n",
       "      <td>0.0191</td>\n",
       "      <td>0.0573</td>\n",
       "      <td>0.0281</td>\n",
       "      <td>0.0150</td>\n",
       "      <td>0.0180</td>\n",
       "      <td>-0.0166</td>\n",
       "      <td>0.0317</td>\n",
       "    </tr>\n",
       "    <tr>\n",
       "      <th>1997-02</th>\n",
       "      <td>0.0123</td>\n",
       "      <td>0.0298</td>\n",
       "      <td>0.0122</td>\n",
       "      <td>0.0525</td>\n",
       "      <td>0.0101</td>\n",
       "      <td>0.0084</td>\n",
       "      <td>0.0122</td>\n",
       "      <td>0.0175</td>\n",
       "      <td>-0.0006</td>\n",
       "      <td>0.0034</td>\n",
       "      <td>0.0118</td>\n",
       "      <td>0.0426</td>\n",
       "      <td>0.0106</td>\n",
       "    </tr>\n",
       "    <tr>\n",
       "      <th>1997-03</th>\n",
       "      <td>0.0078</td>\n",
       "      <td>-0.0021</td>\n",
       "      <td>-0.0012</td>\n",
       "      <td>-0.0120</td>\n",
       "      <td>0.0016</td>\n",
       "      <td>-0.0023</td>\n",
       "      <td>0.0109</td>\n",
       "      <td>-0.0119</td>\n",
       "      <td>-0.0084</td>\n",
       "      <td>0.0060</td>\n",
       "      <td>0.0010</td>\n",
       "      <td>0.0778</td>\n",
       "      <td>-0.0077</td>\n",
       "    </tr>\n",
       "    <tr>\n",
       "      <th>1997-04</th>\n",
       "      <td>0.0086</td>\n",
       "      <td>-0.0170</td>\n",
       "      <td>0.0030</td>\n",
       "      <td>0.0119</td>\n",
       "      <td>0.0119</td>\n",
       "      <td>-0.0005</td>\n",
       "      <td>0.0130</td>\n",
       "      <td>0.0172</td>\n",
       "      <td>0.0084</td>\n",
       "      <td>-0.0001</td>\n",
       "      <td>0.0122</td>\n",
       "      <td>-0.0129</td>\n",
       "      <td>0.0009</td>\n",
       "    </tr>\n",
       "    <tr>\n",
       "      <th>1997-05</th>\n",
       "      <td>0.0156</td>\n",
       "      <td>-0.0015</td>\n",
       "      <td>0.0233</td>\n",
       "      <td>0.0315</td>\n",
       "      <td>0.0189</td>\n",
       "      <td>0.0346</td>\n",
       "      <td>0.0118</td>\n",
       "      <td>0.0108</td>\n",
       "      <td>0.0394</td>\n",
       "      <td>0.0197</td>\n",
       "      <td>0.0173</td>\n",
       "      <td>-0.0737</td>\n",
       "      <td>0.0275</td>\n",
       "    </tr>\n",
       "  </tbody>\n",
       "</table>\n",
       "</div>"
      ],
      "text/plain": [
       "         Convertible Arbitrage  CTA Global  Distressed Securities  \\\n",
       "date                                                                \n",
       "1997-01                 0.0119      0.0393                 0.0178   \n",
       "1997-02                 0.0123      0.0298                 0.0122   \n",
       "1997-03                 0.0078     -0.0021                -0.0012   \n",
       "1997-04                 0.0086     -0.0170                 0.0030   \n",
       "1997-05                 0.0156     -0.0015                 0.0233   \n",
       "\n",
       "         Emerging Markets  Equity Market Neutral  Event Driven  \\\n",
       "date                                                             \n",
       "1997-01            0.0791                 0.0189        0.0213   \n",
       "1997-02            0.0525                 0.0101        0.0084   \n",
       "1997-03           -0.0120                 0.0016       -0.0023   \n",
       "1997-04            0.0119                 0.0119       -0.0005   \n",
       "1997-05            0.0315                 0.0189        0.0346   \n",
       "\n",
       "         Fixed Income Arbitrage  Global Macro  Long/Short Equity  \\\n",
       "date                                                               \n",
       "1997-01                  0.0191        0.0573             0.0281   \n",
       "1997-02                  0.0122        0.0175            -0.0006   \n",
       "1997-03                  0.0109       -0.0119            -0.0084   \n",
       "1997-04                  0.0130        0.0172             0.0084   \n",
       "1997-05                  0.0118        0.0108             0.0394   \n",
       "\n",
       "         Merger Arbitrage  Relative Value  Short Selling  Funds Of Funds  \n",
       "date                                                                      \n",
       "1997-01            0.0150          0.0180        -0.0166          0.0317  \n",
       "1997-02            0.0034          0.0118         0.0426          0.0106  \n",
       "1997-03            0.0060          0.0010         0.0778         -0.0077  \n",
       "1997-04           -0.0001          0.0122        -0.0129          0.0009  \n",
       "1997-05            0.0197          0.0173        -0.0737          0.0275  "
      ]
     },
     "execution_count": 5,
     "metadata": {},
     "output_type": "execute_result"
    }
   ],
   "source": [
    "hfi = get_hfi_returns()\n",
    "\n",
    "hfi.head()"
   ]
  },
  {
   "cell_type": "markdown",
   "metadata": {},
   "source": [
    "#### VaR using Historical Simulation\n",
    "\n",
    "To compute the historic VaR at a certain level, say 5%, all we have to do is to find the number such that 5% of the returns fall below that number and 95% of the returns fall above that number. In other words, we want the 5 percentile return."
   ]
  },
  {
   "cell_type": "code",
   "execution_count": 7,
   "metadata": {},
   "outputs": [
    {
     "data": {
      "text/plain": [
       "Convertible Arbitrage     0.031776\n",
       "CTA Global                0.049542\n",
       "Distressed Securities     0.046654\n",
       "Emerging Markets          0.088466\n",
       "Equity Market Neutral     0.018000\n",
       "Event Driven              0.048612\n",
       "Fixed Income Arbitrage    0.041672\n",
       "Global Macro              0.024316\n",
       "Long/Short Equity         0.049558\n",
       "Merger Arbitrage          0.025336\n",
       "Relative Value            0.026660\n",
       "Short Selling             0.113576\n",
       "Funds Of Funds            0.039664\n",
       "dtype: float64"
      ]
     },
     "execution_count": 7,
     "metadata": {},
     "output_type": "execute_result"
    }
   ],
   "source": [
    "# 1% VaR\n",
    "var_historic(hfi, level=1)"
   ]
  },
  {
   "cell_type": "markdown",
   "metadata": {},
   "source": [
    "### Conditional VaR using Historical Simulation"
   ]
  },
  {
   "cell_type": "code",
   "execution_count": 12,
   "metadata": {},
   "outputs": [
    {
     "data": {
      "text/plain": [
       "Short Selling             0.009873\n",
       "CTA Global                0.001510\n",
       "Global Macro              0.000065\n",
       "Fixed Income Arbitrage   -0.000380\n",
       "Emerging Markets         -0.001028\n",
       "Relative Value           -0.001211\n",
       "Funds Of Funds           -0.001228\n",
       "Merger Arbitrage         -0.001469\n",
       "Equity Market Neutral    -0.001603\n",
       "Convertible Arbitrage    -0.001672\n",
       "Distressed Securities    -0.001871\n",
       "Long/Short Equity        -0.002061\n",
       "Event Driven             -0.003557\n",
       "dtype: float64"
      ]
     },
     "execution_count": 12,
     "metadata": {},
     "output_type": "execute_result"
    }
   ],
   "source": [
    "# 5% CVaR, 5% is the default value for level\n",
    "cvar_historic(hfi).sort_values(ascending=False)"
   ]
  },
  {
   "cell_type": "markdown",
   "metadata": {},
   "source": [
    "### Gaussian VAR\n",
    "\n",
    "The idea behind this is very simple. If a set of returns is normally distributed, we know, for instance, that 50% of the returns are below the mean and 50% are above.\n",
    "\n",
    "We also know that approx two thirds of the returns lie within 1 standard deviation. That means one third lie beyond one standard deviation from the mean. Since the normal distribution is symmetric, approximately one sixth (approx 16%) lie below one standard deviation away from the mean. Therefore, if we know the mean and standard deviation and if we assume that the returns are normally distributed, the 16% VaR would be the mean minus one standard deviation.\n",
    "\n",
    "In general we can always convert a percentile point to a z-score (which is the number of standard deviations away from the mean that a number is). Therefore, if we can convert the VaR level (such as 1% or 5%) to a z-score, we can calculate the return level where that percent of returns lie below it.\n"
   ]
  },
  {
   "cell_type": "code",
   "execution_count": 14,
   "metadata": {},
   "outputs": [
    {
     "data": {
      "text/plain": [
       "Convertible Arbitrage     0.021691\n",
       "CTA Global                0.034235\n",
       "Distressed Securities     0.021032\n",
       "Emerging Markets          0.047164\n",
       "Equity Market Neutral     0.008850\n",
       "Event Driven              0.021144\n",
       "Fixed Income Arbitrage    0.014579\n",
       "Global Macro              0.018766\n",
       "Long/Short Equity         0.026397\n",
       "Merger Arbitrage          0.010435\n",
       "Relative Value            0.013061\n",
       "Short Selling             0.080086\n",
       "Funds Of Funds            0.021292\n",
       "dtype: float64"
      ]
     },
     "execution_count": 14,
     "metadata": {},
     "output_type": "execute_result"
    }
   ],
   "source": [
    "var_gaussian(hfi)"
   ]
  },
  {
   "cell_type": "markdown",
   "metadata": {},
   "source": [
    "### Cornish-Fisher VaR\n",
    "\n",
    "The Cornish-Fisher modification is an elegant and simple adjustment.\n",
    "\n",
    "The z-score tells us how many standard deviations away from the mean we need to go to find the VaR. If the returns arent normal, we know that z-score will give us an inaccurate number. The basic idea is that since we can observe the skewness and kurtosis of the data, we can adjust the z-score up or down to come up with a modifed z-score. e.g. intuitively, all other things being equal, if the skewness is negative, we'll decrease the z-score further down, and if the skewness is positive, we'll push it up.\n",
    "\n",
    "The adjusted z-score which we'll call $z_{cornishfisher}$ given by:\n",
    "\n",
    "$$ z_{cornishfisher} = z +\\frac{1}{6}(z^2-1)S + \\frac{1}{24}(z^3-3z)(K-3)-\\frac{1}{36}(2z^3-5z)S^2 $$\n"
   ]
  },
  {
   "cell_type": "code",
   "execution_count": 15,
   "metadata": {},
   "outputs": [
    {
     "data": {
      "text/plain": [
       "Convertible Arbitrage     0.025166\n",
       "CTA Global                0.033094\n",
       "Distressed Securities     0.025102\n",
       "Emerging Markets          0.053011\n",
       "Equity Market Neutral     0.010734\n",
       "Event Driven              0.025516\n",
       "Fixed Income Arbitrage    0.017881\n",
       "Global Macro              0.013581\n",
       "Long/Short Equity         0.027935\n",
       "Merger Arbitrage          0.012612\n",
       "Relative Value            0.016157\n",
       "Short Selling             0.066157\n",
       "Funds Of Funds            0.021576\n",
       "dtype: float64"
      ]
     },
     "execution_count": 15,
     "metadata": {},
     "output_type": "execute_result"
    }
   ],
   "source": [
    "var_gaussian(hfi, modified=True)"
   ]
  },
  {
   "cell_type": "markdown",
   "metadata": {},
   "source": [
    "### Plotting the 3 different VaR"
   ]
  },
  {
   "cell_type": "code",
   "execution_count": 17,
   "metadata": {},
   "outputs": [
    {
     "data": {
      "text/plain": [
       "<AxesSubplot:title={'center':'Hedge Fund Indices: VaR at 5%'}>"
      ]
     },
     "execution_count": 17,
     "metadata": {},
     "output_type": "execute_result"
    },
    {
     "data": {
      "image/png": "[encoded data removed]",
      "text/plain": [
       "<Figure size 432x288 with 1 Axes>"
      ]
     },
     "metadata": {
      "needs_background": "light"
     },
     "output_type": "display_data"
    }
   ],
   "source": [
    "var_table = [var_gaussian(hfi), \n",
    "             var_gaussian(hfi, modified=True), \n",
    "             var_historic(hfi)]\n",
    "comparison = pd.concat(var_table, axis=1)\n",
    "comparison.columns=['Gaussian', 'Cornish-Fisher', 'Historic']\n",
    "comparison.plot.bar(title=\"Hedge Fund Indices: VaR at 5%\")\n"
   ]
  },
  {
   "cell_type": "markdown",
   "metadata": {},
   "source": [
    "## Mean Variance Optimization"
   ]
  },
  {
   "cell_type": "markdown",
   "metadata": {},
   "source": [
    "The objective of Mean-Variance Optimization is to find the portfolio with the lowest volatility (as measured by standard deviation of returns) given a target return or the porfolio with the maximum return given a target volatility.\n",
    "In this notebook we are going to identify our optimal portfolio on the efficient frontier ( graph that plots the returns given different level of volatilities).\n",
    "\n",
    "The dataset used will be the monthly returns of different industries in the SP500 from `1926-2018`"
   ]
  },
  {
   "cell_type": "code",
   "execution_count": 42,
   "metadata": {},
   "outputs": [],
   "source": [
    "\n",
    "from utilities import get_ind_returns, annualize_rets, plot_ef\n",
    "\n",
    "ind = get_ind_returns() # monthly returns of industries in the SP500\n",
    "er = annualize_rets(ind[\"2000\":\"2018\"], 12) # Annual return from 2000-2018\n",
    "cov = ind[\"2000\":\"2018\"].cov() # Covariance of returns"
   ]
  },
  {
   "cell_type": "markdown",
   "metadata": {},
   "source": [
    "### Efficient Frontier for a portfolio including the following indexes\n",
    "`[\"Smoke\", \"Fin\", \"Games\", \"Coal\"]`"
   ]
  },
  {
   "cell_type": "code",
   "execution_count": 26,
   "metadata": {},
   "outputs": [
    {
     "data": {
      "image/png": "[encoded data removed]",
      "text/plain": [
       "<Figure size 432x288 with 1 Axes>"
      ]
     },
     "metadata": {
      "needs_background": "light"
     },
     "output_type": "display_data"
    }
   ],
   "source": [
    "l = l = [\"Smoke\", \"Fin\", \"Games\", \"Coal\"]\n",
    "plot_ef(n_points=50, er=er[l], cov=cov.loc[l,l], show_cml=True, riskfree_rate=0.02);"
   ]
  },
  {
   "cell_type": "markdown",
   "metadata": {},
   "source": [
    "Although the promise of the Markowitz procedure is exciting, it tends to fall apart in practice. The problem is that we rarely know Expected Returns and Expected Covariance in advance. Our estimates almost certainly contain some estimation error, and we'll see that the procedure is highly sensitive to these errors, which tend to get exaggerated in the portfolio."
   ]
  },
  {
   "cell_type": "code",
   "execution_count": 38,
   "metadata": {},
   "outputs": [
    {
     "name": "stdout",
     "output_type": "stream",
     "text": [
      " Weights : [0.74028066 0.25971934] \n",
      "and returns: Food     0.116799\n",
      "Steel    0.115809\n",
      "dtype: float64\n"
     ]
    }
   ],
   "source": [
    "l = [\"Food\", \"Steel\"]\n",
    "from utilities import msr\n",
    "import numpy as np\n",
    "\n",
    "er_ii = annualize_rets(ind[\"1996\":\"2000\"], 12)\n",
    "cov_ii = ind[\"1996\":\"2000\"].cov()\n",
    "#Maximum Sharpe ratio portfolio\n",
    "weights = msr(riskfree_rate=0.02, er=np.array(er_ii[l]), cov=cov_ii.loc[l,l])\n",
    "\n",
    "print(f\" Weights : {weights} \\nand returns: {er[l]}\")"
   ]
  },
  {
   "cell_type": "markdown",
   "metadata": {},
   "source": [
    "Now assume that we had a really good estimator, and we were off by only a fraction of a percent in our estimate, and we had estimated a return of 11 and 12 percent respectively for Food and Steel"
   ]
  },
  {
   "cell_type": "code",
   "execution_count": 39,
   "metadata": {},
   "outputs": [
    {
     "data": {
      "text/plain": [
       "array([0.57930354, 0.42069646])"
      ]
     },
     "execution_count": 39,
     "metadata": {},
     "output_type": "execute_result"
    }
   ],
   "source": [
    "msr(0.1, np.array([.11, .12]), cov_ii.loc[l,l])"
   ]
  },
  {
   "cell_type": "markdown",
   "metadata": {},
   "source": [
    "We see that even a small change in the estimate causes a major change in the weights. What if we were off by around 1% to 2% percent in each estimate and estimated 10% and 13% instead of the return of 11.6% and 11.5%?"
   ]
  },
  {
   "cell_type": "code",
   "execution_count": 40,
   "metadata": {},
   "outputs": [
    {
     "data": {
      "text/plain": [
       "array([0., 1.])"
      ]
     },
     "execution_count": 40,
     "metadata": {},
     "output_type": "execute_result"
    }
   ],
   "source": [
    "msr(0.1, np.array([.10, .13]), cov_ii.loc[l,l])"
   ]
  },
  {
   "cell_type": "markdown",
   "metadata": {},
   "source": [
    "And if we had made the _same_ estimation error, but the error went the other way (13% and 10%)?"
   ]
  },
  {
   "cell_type": "code",
   "execution_count": 41,
   "metadata": {},
   "outputs": [
    {
     "data": {
      "text/plain": [
       "array([1., 0.])"
      ]
     },
     "execution_count": 41,
     "metadata": {},
     "output_type": "execute_result"
    }
   ],
   "source": [
    "msr(0.1, np.array([.13, .1]), cov_ii.loc[l,l])"
   ]
  },
  {
   "cell_type": "markdown",
   "metadata": {},
   "source": [
    "One way to avoid this estimation game is to skip the entire process and just rely on _naive_ diversification, which means hold all stocks with equal weight. Researchers have shown that the EW portfolio is a remarkably good portfolio to hold. In fact, there is overwhelming siupport for the idea that it is a far better portfolio to hold than a cap-weighted equivalent."
   ]
  },
  {
   "cell_type": "markdown",
   "metadata": {},
   "source": []
  },
  {
   "cell_type": "code",
   "execution_count": 43,
   "metadata": {},
   "outputs": [
    {
     "data": {
      "image/png": "[encoded data removed]",
      "text/plain": [
       "<Figure size 432x288 with 1 Axes>"
      ]
     },
     "metadata": {
      "needs_background": "light"
     },
     "output_type": "display_data"
    }
   ],
   "source": [
    "plot_ef(20, er, cov, show_cml=True, riskfree_rate=0.1, show_ew=True)"
   ]
  },
  {
   "cell_type": "markdown",
   "metadata": {},
   "source": [
    "The EW portfolio is far inside the efficient frontier, but it requires no estimation whatsoever."
   ]
  },
  {
   "cell_type": "markdown",
   "metadata": {},
   "source": [
    "#### Global Minimum Variance (GMV) Portfolio\n",
    "\n",
    "However, there is another point on the efficient frontier that is very interesting. This is the _nose_ of the hull, which is the portfolio of lowest volatility across all possible portfolios. This is called the Minimum Volatility or the Global Minimum Volatility or GMV portfolio."
   ]
  },
  {
   "cell_type": "code",
   "execution_count": 44,
   "metadata": {},
   "outputs": [
    {
     "data": {
      "text/plain": [
       "<AxesSubplot:xlabel='Volatility'>"
      ]
     },
     "execution_count": 44,
     "metadata": {},
     "output_type": "execute_result"
    },
    {
     "data": {
      "image/png": "[encoded data removed]",
      "text/plain": [
       "<Figure size 432x288 with 1 Axes>"
      ]
     },
     "metadata": {
      "needs_background": "light"
     },
     "output_type": "display_data"
    }
   ],
   "source": [
    "plot_ef(20, er, cov, show_cml=True, riskfree_rate=0.1, show_ew=True, show_gmv=True)"
   ]
  },
  {
   "cell_type": "markdown",
   "metadata": {},
   "source": [
    "### Further Research"
   ]
  },
  {
   "cell_type": "markdown",
   "metadata": {},
   "source": [
    "We could use the black litterman model instead of the MVO.\n",
    " the Black–Litterman model is a mathematical model for portfolio allocation developed in 1990 at Goldman Sachs by Fischer Black and Robert Litterman, and published in 1992. It seeks to overcome problems that institutional investors have encountered in applying modern portfolio theory in practice"
   ]
  },
  {
   "cell_type": "markdown",
   "metadata": {},
   "source": [
    "## Monte-Carlo Simulations\n",
    "\n",
    "Application of MC simulation to calculate the price of a put option"
   ]
  },
  {
   "cell_type": "code",
   "execution_count": 45,
   "metadata": {},
   "outputs": [],
   "source": [
    "import numpy as np\n",
    "from scipy.stats import norm\n",
    "from scipy.stats import uniform\n",
    "import matplotlib.pyplot as plt\n",
    "import math\n",
    "import random"
   ]
  },
  {
   "cell_type": "code",
   "execution_count": 47,
   "metadata": {},
   "outputs": [
    {
     "data": {
      "text/plain": [
       "Text(0, 0.5, 'Put Value')"
      ]
     },
     "execution_count": 47,
     "metadata": {},
     "output_type": "execute_result"
    },
    {
     "data": {
      "image/png": "[encoded data removed]",
      "text/plain": [
       "<Figure size 432x288 with 1 Axes>"
      ]
     },
     "metadata": {
      "needs_background": "light"
     },
     "output_type": "display_data"
    }
   ],
   "source": [
    "#Code for the put option\n",
    "random.seed(0)\n",
    "\n",
    "#Share information\n",
    "sigma = 0.3\n",
    "r = 0.1\n",
    "S0 = 100\n",
    "\n",
    "#Option information\n",
    "T = 0.5\n",
    "K = 110\n",
    "\n",
    "#Function for terminal share valuation\n",
    "def terminal_shareprice(S_0, risk_free_rate,sigma,Z,T):\n",
    "    \"\"\"Generates the terminal share price given some random normal values, Z\"\"\"\n",
    "    return S_0*np.exp((risk_free_rate-sigma**2/2)*T+sigma*np.sqrt(T)*Z)\n",
    "\n",
    "#Function for put valuations\n",
    "def put_price(S_0,K,risk_free_rate,sigma,Z,T):\n",
    "    \"\"\"Function for evaluating the call price in Monte Carlo Estimation\"\"\"\n",
    "    share_terminal = terminal_shareprice(S_0, risk_free_rate, sigma, Z, T)\n",
    "    return np.exp(-risk_free_rate*T)*np.maximum(K-share_terminal,0)\n",
    "\n",
    "#Empty vectors to be filled later\n",
    "mput_estimates = [None]*50\n",
    "mput_std = [None]*50\n",
    "\n",
    "#Applying MC estimation\n",
    "for i in range(1,51):\n",
    "    norm_array = norm.rvs(size = 1000*i)\n",
    "    mput_val = put_price(S0,K,r,sigma,norm_array,T)\n",
    "    mput_estimates[i-1] = np.mean(mput_val)\n",
    "    mput_std[i-1] = np.std(mput_val)/np.sqrt(1000*i)\n",
    "    \n",
    "#Determining the analytical solution\n",
    "d_1 = (math.log(S0/K)+(r + sigma**2/2)*T)/(sigma*math.sqrt(T))\n",
    "d_2 = d_1 - sigma*math.sqrt(T)\n",
    "mput_analytic = K*math.exp(-r*T)*norm.cdf(-d_2)-S0*norm.cdf(-d_1)\n",
    "\n",
    "#Plotting the graph\n",
    "plt.plot([mput_analytic]*50)\n",
    "plt.plot(mput_estimates,'.')\n",
    "plt.plot(mput_analytic+np.array(mput_std)*3, 'r')\n",
    "plt.plot(mput_analytic-np.array(mput_std)*3, 'g')\n",
    "plt.xlabel(\"Sample Size in thousands\")\n",
    "\n",
    "plt.ylabel(\"Put Value\")"
   ]
  },
  {
   "cell_type": "code",
   "execution_count": null,
   "metadata": {},
   "outputs": [],
   "source": []
  }
 ],
 "metadata": {
  "interpreter": {
   "hash": "ce4d397360344fed38b2e0aac766259a9b120d0799ba761b5a573ebf7a94dad7"
  },
  "kernelspec": {
   "display_name": "Python 3.9.7 ('base')",
   "language": "python",
   "name": "python3"
  },
  "language_info": {
   "codemirror_mode": {
    "name": "ipython",
    "version": 3
   },
   "file_extension": ".py",
   "mimetype": "text/x-python",
   "name": "python",
   "nbconvert_exporter": "python",
   "pygments_lexer": "ipython3",
   "version": "3.9.7"
  },
  "orig_nbformat": 4
 },
 "nbformat": 4,
 "nbformat_minor": 2
}
